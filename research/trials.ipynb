{
 "cells": [
  {
   "cell_type": "code",
   "execution_count": 1,
   "metadata": {},
   "outputs": [
    {
     "name": "stdout",
     "output_type": "stream",
     "text": [
      "hello\n"
     ]
    }
   ],
   "source": [
    "print(\"hello\")"
   ]
  },
  {
   "cell_type": "code",
   "execution_count": 2,
   "metadata": {},
   "outputs": [
    {
     "data": {
      "text/plain": [
       "'c:\\\\Users\\\\Surbhi\\\\Desktop\\\\OpenAI-Demo\\\\New_Med\\\\New_med\\\\research'"
      ]
     },
     "execution_count": 2,
     "metadata": {},
     "output_type": "execute_result"
    }
   ],
   "source": [
    "%pwd"
   ]
  },
  {
   "cell_type": "code",
   "execution_count": 3,
   "metadata": {},
   "outputs": [
    {
     "data": {
      "text/plain": [
       "'c:\\\\Users\\\\Surbhi\\\\Desktop\\\\OpenAI-Demo\\\\New_Med\\\\New_med\\\\research'"
      ]
     },
     "execution_count": 3,
     "metadata": {},
     "output_type": "execute_result"
    }
   ],
   "source": [
    "%pwd"
   ]
  },
  {
   "cell_type": "code",
   "execution_count": 4,
   "metadata": {},
   "outputs": [],
   "source": [
    "from langchain.document_loaders import PyMuPDFLoader, DirectoryLoader\n",
    "from langchain.text_splitter import RecursiveCharacterTextSplitter\n",
    "\n"
   ]
  },
  {
   "cell_type": "code",
   "execution_count": 6,
   "metadata": {},
   "outputs": [],
   "source": [
    "from langchain.document_loaders import PyPDFLoader"
   ]
  },
  {
   "cell_type": "code",
   "execution_count": 7,
   "metadata": {},
   "outputs": [],
   "source": [
    "def load_pdf_file(data):\n",
    "    loader=DirectoryLoader(data,\n",
    "                           glob=\"*.pdf\",\n",
    "                           loader_cls=PyPDFLoader)\n",
    "    \n",
    "    documents=loader.load()\n",
    "    return(documents)"
   ]
  },
  {
   "cell_type": "code",
   "execution_count": 11,
   "metadata": {},
   "outputs": [],
   "source": [
    "extracted_data=load_pdf_file(data=\"C:\\\\Users\\\\Surbhi\\\\Desktop\\\\OpenAI-Demo\\\\New_Med\\\\New_med\\\\Data\")"
   ]
  },
  {
   "cell_type": "code",
   "execution_count": 13,
   "metadata": {},
   "outputs": [],
   "source": [
    "#extracted_data"
   ]
  },
  {
   "cell_type": "code",
   "execution_count": 15,
   "metadata": {},
   "outputs": [],
   "source": [
    "def text_split(extracted_data):\n",
    "    text_splitter=RecursiveCharacterTextSplitter(chunk_size=500,chunk_overlap=20)\n",
    "    text_chunks=text_splitter.split_documents(extracted_data)\n",
    "\n",
    "    return(text_chunks)"
   ]
  },
  {
   "cell_type": "code",
   "execution_count": 16,
   "metadata": {},
   "outputs": [
    {
     "name": "stdout",
     "output_type": "stream",
     "text": [
      "length of Text chunks 75\n"
     ]
    }
   ],
   "source": [
    "text_chunks=text_split(extracted_data)\n",
    "print(\"length of Text chunks\",len(text_chunks))"
   ]
  },
  {
   "cell_type": "code",
   "execution_count": 17,
   "metadata": {},
   "outputs": [],
   "source": [
    "from langchain.embeddings import HuggingFaceEmbeddings"
   ]
  },
  {
   "cell_type": "code",
   "execution_count": 22,
   "metadata": {},
   "outputs": [],
   "source": [
    "def download_hugging_face_embeddings():\n",
    "    embeddings=HuggingFaceEmbeddings(model_name='sentence-transformers/all-MiniLM-L6-v2')\n",
    "    return(embeddings)"
   ]
  },
  {
   "cell_type": "code",
   "execution_count": 26,
   "metadata": {},
   "outputs": [
    {
     "name": "stdout",
     "output_type": "stream",
     "text": [
      "Requirement already satisfied: sentence-transformers in c:\\users\\surbhi\\desktop\\openai-demo\\new_med\\new_med\\medicalbot\\lib\\site-packages (2.2.2)\n",
      "Collecting sentence-transformers\n",
      "  Using cached sentence_transformers-3.3.1-py3-none-any.whl.metadata (10 kB)\n",
      "Requirement already satisfied: transformers<5.0.0,>=4.41.0 in c:\\users\\surbhi\\desktop\\openai-demo\\new_med\\new_med\\medicalbot\\lib\\site-packages (from sentence-transformers) (4.47.1)\n",
      "Requirement already satisfied: tqdm in c:\\users\\surbhi\\desktop\\openai-demo\\new_med\\new_med\\medicalbot\\lib\\site-packages (from sentence-transformers) (4.67.1)\n",
      "Requirement already satisfied: torch>=1.11.0 in c:\\users\\surbhi\\desktop\\openai-demo\\new_med\\new_med\\medicalbot\\lib\\site-packages (from sentence-transformers) (2.5.1)\n",
      "Requirement already satisfied: scikit-learn in c:\\users\\surbhi\\desktop\\openai-demo\\new_med\\new_med\\medicalbot\\lib\\site-packages (from sentence-transformers) (1.6.0)\n",
      "Requirement already satisfied: scipy in c:\\users\\surbhi\\desktop\\openai-demo\\new_med\\new_med\\medicalbot\\lib\\site-packages (from sentence-transformers) (1.14.1)\n",
      "Requirement already satisfied: huggingface-hub>=0.20.0 in c:\\users\\surbhi\\desktop\\openai-demo\\new_med\\new_med\\medicalbot\\lib\\site-packages (from sentence-transformers) (0.27.0)\n",
      "Requirement already satisfied: Pillow in c:\\users\\surbhi\\desktop\\openai-demo\\new_med\\new_med\\medicalbot\\lib\\site-packages (from sentence-transformers) (11.0.0)\n",
      "Requirement already satisfied: filelock in c:\\users\\surbhi\\desktop\\openai-demo\\new_med\\new_med\\medicalbot\\lib\\site-packages (from huggingface-hub>=0.20.0->sentence-transformers) (3.16.1)\n",
      "Requirement already satisfied: fsspec>=2023.5.0 in c:\\users\\surbhi\\desktop\\openai-demo\\new_med\\new_med\\medicalbot\\lib\\site-packages (from huggingface-hub>=0.20.0->sentence-transformers) (2024.12.0)\n",
      "Requirement already satisfied: packaging>=20.9 in c:\\users\\surbhi\\desktop\\openai-demo\\new_med\\new_med\\medicalbot\\lib\\site-packages (from huggingface-hub>=0.20.0->sentence-transformers) (24.2)\n",
      "Requirement already satisfied: pyyaml>=5.1 in c:\\users\\surbhi\\desktop\\openai-demo\\new_med\\new_med\\medicalbot\\lib\\site-packages (from huggingface-hub>=0.20.0->sentence-transformers) (6.0.2)\n",
      "Requirement already satisfied: requests in c:\\users\\surbhi\\desktop\\openai-demo\\new_med\\new_med\\medicalbot\\lib\\site-packages (from huggingface-hub>=0.20.0->sentence-transformers) (2.32.3)\n",
      "Requirement already satisfied: typing-extensions>=3.7.4.3 in c:\\users\\surbhi\\desktop\\openai-demo\\new_med\\new_med\\medicalbot\\lib\\site-packages (from huggingface-hub>=0.20.0->sentence-transformers) (4.12.2)\n",
      "Requirement already satisfied: networkx in c:\\users\\surbhi\\desktop\\openai-demo\\new_med\\new_med\\medicalbot\\lib\\site-packages (from torch>=1.11.0->sentence-transformers) (3.4.2)\n",
      "Requirement already satisfied: jinja2 in c:\\users\\surbhi\\desktop\\openai-demo\\new_med\\new_med\\medicalbot\\lib\\site-packages (from torch>=1.11.0->sentence-transformers) (3.1.5)\n",
      "Requirement already satisfied: setuptools in c:\\users\\surbhi\\desktop\\openai-demo\\new_med\\new_med\\medicalbot\\lib\\site-packages (from torch>=1.11.0->sentence-transformers) (75.1.0)\n",
      "Requirement already satisfied: sympy==1.13.1 in c:\\users\\surbhi\\desktop\\openai-demo\\new_med\\new_med\\medicalbot\\lib\\site-packages (from torch>=1.11.0->sentence-transformers) (1.13.1)\n",
      "Requirement already satisfied: mpmath<1.4,>=1.1.0 in c:\\users\\surbhi\\desktop\\openai-demo\\new_med\\new_med\\medicalbot\\lib\\site-packages (from sympy==1.13.1->torch>=1.11.0->sentence-transformers) (1.3.0)\n",
      "Requirement already satisfied: colorama in c:\\users\\surbhi\\desktop\\openai-demo\\new_med\\new_med\\medicalbot\\lib\\site-packages (from tqdm->sentence-transformers) (0.4.6)\n",
      "Requirement already satisfied: numpy>=1.17 in c:\\users\\surbhi\\desktop\\openai-demo\\new_med\\new_med\\medicalbot\\lib\\site-packages (from transformers<5.0.0,>=4.41.0->sentence-transformers) (1.26.4)\n",
      "Requirement already satisfied: regex!=2019.12.17 in c:\\users\\surbhi\\desktop\\openai-demo\\new_med\\new_med\\medicalbot\\lib\\site-packages (from transformers<5.0.0,>=4.41.0->sentence-transformers) (2024.11.6)\n",
      "Requirement already satisfied: tokenizers<0.22,>=0.21 in c:\\users\\surbhi\\desktop\\openai-demo\\new_med\\new_med\\medicalbot\\lib\\site-packages (from transformers<5.0.0,>=4.41.0->sentence-transformers) (0.21.0)\n",
      "Requirement already satisfied: safetensors>=0.4.1 in c:\\users\\surbhi\\desktop\\openai-demo\\new_med\\new_med\\medicalbot\\lib\\site-packages (from transformers<5.0.0,>=4.41.0->sentence-transformers) (0.4.5)\n",
      "Requirement already satisfied: joblib>=1.2.0 in c:\\users\\surbhi\\desktop\\openai-demo\\new_med\\new_med\\medicalbot\\lib\\site-packages (from scikit-learn->sentence-transformers) (1.4.2)\n",
      "Requirement already satisfied: threadpoolctl>=3.1.0 in c:\\users\\surbhi\\desktop\\openai-demo\\new_med\\new_med\\medicalbot\\lib\\site-packages (from scikit-learn->sentence-transformers) (3.5.0)\n",
      "Requirement already satisfied: MarkupSafe>=2.0 in c:\\users\\surbhi\\desktop\\openai-demo\\new_med\\new_med\\medicalbot\\lib\\site-packages (from jinja2->torch>=1.11.0->sentence-transformers) (3.0.2)\n",
      "Requirement already satisfied: charset-normalizer<4,>=2 in c:\\users\\surbhi\\desktop\\openai-demo\\new_med\\new_med\\medicalbot\\lib\\site-packages (from requests->huggingface-hub>=0.20.0->sentence-transformers) (3.4.0)\n",
      "Requirement already satisfied: idna<4,>=2.5 in c:\\users\\surbhi\\desktop\\openai-demo\\new_med\\new_med\\medicalbot\\lib\\site-packages (from requests->huggingface-hub>=0.20.0->sentence-transformers) (3.10)\n",
      "Requirement already satisfied: urllib3<3,>=1.21.1 in c:\\users\\surbhi\\desktop\\openai-demo\\new_med\\new_med\\medicalbot\\lib\\site-packages (from requests->huggingface-hub>=0.20.0->sentence-transformers) (2.3.0)\n",
      "Requirement already satisfied: certifi>=2017.4.17 in c:\\users\\surbhi\\desktop\\openai-demo\\new_med\\new_med\\medicalbot\\lib\\site-packages (from requests->huggingface-hub>=0.20.0->sentence-transformers) (2024.12.14)\n",
      "Using cached sentence_transformers-3.3.1-py3-none-any.whl (268 kB)\n",
      "Installing collected packages: sentence-transformers\n",
      "  Attempting uninstall: sentence-transformers\n",
      "    Found existing installation: sentence-transformers 2.2.2\n",
      "    Uninstalling sentence-transformers-2.2.2:\n",
      "      Successfully uninstalled sentence-transformers-2.2.2\n",
      "Successfully installed sentence-transformers-3.3.1\n"
     ]
    }
   ],
   "source": [
    "!pip install -U sentence-transformers\n"
   ]
  },
  {
   "cell_type": "code",
   "execution_count": 27,
   "metadata": {},
   "outputs": [
    {
     "name": "stderr",
     "output_type": "stream",
     "text": [
      "c:\\Users\\Surbhi\\Desktop\\OpenAI-Demo\\New_Med\\New_med\\medicalbot\\Lib\\site-packages\\huggingface_hub\\file_download.py:140: UserWarning: `huggingface_hub` cache-system uses symlinks by default to efficiently store duplicated files but your machine does not support them in C:\\Users\\Surbhi\\.cache\\huggingface\\hub\\models--sentence-transformers--all-MiniLM-L6-v2. Caching files will still work but in a degraded version that might require more space on your disk. This warning can be disabled by setting the `HF_HUB_DISABLE_SYMLINKS_WARNING` environment variable. For more details, see https://huggingface.co/docs/huggingface_hub/how-to-cache#limitations.\n",
      "To support symlinks on Windows, you either need to activate Developer Mode or to run Python as an administrator. In order to activate developer mode, see this article: https://docs.microsoft.com/en-us/windows/apps/get-started/enable-your-device-for-development\n",
      "  warnings.warn(message)\n"
     ]
    },
    {
     "name": "stdout",
     "output_type": "stream",
     "text": [
      "[[ 6.76569417e-02  6.34959564e-02  4.87131029e-02  7.93048963e-02\n",
      "   3.74480709e-02  2.65277619e-03  3.93749177e-02 -7.09846616e-03\n",
      "   5.93614057e-02  3.15370224e-02  6.00980818e-02 -5.29052354e-02\n",
      "   4.06067409e-02 -2.59308442e-02  2.98428535e-02  1.12691487e-03\n",
      "   7.35148937e-02 -5.03818579e-02 -1.22386597e-01  2.37028375e-02\n",
      "   2.97265276e-02  4.24768776e-02  2.56337691e-02  1.99514348e-03\n",
      "  -5.69190495e-02 -2.71597989e-02 -3.29035297e-02  6.60248995e-02\n",
      "   1.19007193e-01 -4.58791330e-02 -7.26214200e-02 -3.25840116e-02\n",
      "   5.23414016e-02  4.50553410e-02  8.25305004e-03  3.67024243e-02\n",
      "  -1.39415674e-02  6.53918684e-02 -2.64272075e-02  2.06393175e-04\n",
      "  -1.36643527e-02 -3.62811014e-02 -1.95043907e-02 -2.89738420e-02\n",
      "   3.94270532e-02 -8.84090662e-02  2.62423488e-03  1.36713171e-02\n",
      "   4.83062454e-02 -3.11566181e-02 -1.17329188e-01 -5.11690676e-02\n",
      "  -8.85287672e-02 -2.18963325e-02  1.42986281e-02  4.44167778e-02\n",
      "  -1.34816021e-02  7.43392631e-02  2.66382936e-02 -1.98762678e-02\n",
      "   1.79191213e-02 -1.06052039e-02 -9.04262811e-02  2.13268865e-02\n",
      "   1.41204834e-01 -6.47176104e-03 -1.40378485e-03 -1.53609365e-02\n",
      "  -8.73571262e-02  7.22174048e-02  2.01402996e-02  4.25587818e-02\n",
      "  -3.49013768e-02  3.19474493e-04 -8.02971125e-02 -3.27472091e-02\n",
      "   2.85268556e-02 -5.13657555e-02  1.09389186e-01  8.19327682e-02\n",
      "  -9.84040275e-02 -9.34096426e-02 -1.51291797e-02  4.51249368e-02\n",
      "   4.94172126e-02 -2.51868013e-02  1.57077573e-02 -1.29290745e-01\n",
      "   5.31888986e-03  4.02342249e-03 -2.34571211e-02 -6.72982708e-02\n",
      "   2.92280186e-02 -2.60845311e-02  1.30625125e-02 -3.11663151e-02\n",
      "  -4.82713841e-02 -5.58859296e-02 -3.87505293e-02  1.20010898e-01\n",
      "  -1.03924535e-02  4.89705503e-02  5.53537235e-02  4.49358188e-02\n",
      "  -4.00977908e-03 -1.02959782e-01 -2.92968899e-02 -5.83403148e-02\n",
      "   2.70472821e-02 -2.20169015e-02 -7.22240880e-02 -4.13869657e-02\n",
      "  -1.93298385e-02  2.73327855e-03  2.77042243e-04 -9.67589095e-02\n",
      "  -1.00574717e-01 -1.41922859e-02 -8.07891712e-02  4.53925133e-02\n",
      "   2.45041493e-02  5.97614087e-02 -7.38184974e-02  1.19844154e-02\n",
      "  -6.63403794e-02 -7.69045353e-02  3.85157876e-02 -5.59362366e-33\n",
      "   2.80014202e-02 -5.60784973e-02 -4.86601442e-02  2.15568934e-02\n",
      "   6.01981133e-02 -4.81402166e-02 -3.50247063e-02  1.93313845e-02\n",
      "  -1.75152197e-02 -3.89210507e-02 -3.81067279e-03 -1.70287751e-02\n",
      "   2.82099918e-02  1.28290914e-02  4.71600927e-02  6.21030666e-02\n",
      "  -6.43588975e-02  1.29285574e-01 -1.31231202e-02  5.23069538e-02\n",
      "  -3.73681039e-02  2.89094578e-02 -1.68980882e-02 -2.37330496e-02\n",
      "  -3.33491862e-02 -5.16762994e-02  1.55356592e-02  2.08802894e-02\n",
      "  -1.25371739e-02  4.59578820e-02  3.72719876e-02  2.80566458e-02\n",
      "  -5.90005219e-02 -1.16988299e-02  4.92182858e-02  4.70329039e-02\n",
      "   7.35487789e-02 -3.70530263e-02  3.98460124e-03  1.06411763e-02\n",
      "  -1.61481134e-04 -5.27165532e-02  2.75927819e-02 -3.92921120e-02\n",
      "   8.44717473e-02  4.86861020e-02 -4.85870475e-03  1.79948695e-02\n",
      "  -4.28569205e-02  1.23375608e-02  6.39952580e-03  4.04823311e-02\n",
      "   1.48886545e-02 -1.53941317e-02  7.62948841e-02  2.37044189e-02\n",
      "   4.45237234e-02  5.08196689e-02 -2.31253076e-03 -1.88736822e-02\n",
      "  -1.23335784e-02  4.66001630e-02 -5.63437901e-02  6.29928112e-02\n",
      "  -3.15535143e-02  3.24912518e-02  2.34673563e-02 -6.55438229e-02\n",
      "   2.01709159e-02  2.57082619e-02 -1.23869097e-02 -8.36491212e-03\n",
      "  -6.64377958e-02  9.43073481e-02 -3.57093252e-02 -3.42482999e-02\n",
      "  -6.66356925e-03 -8.01525731e-03 -3.09711229e-02  4.33012024e-02\n",
      "  -8.21396895e-03 -1.50795043e-01  3.07691675e-02  4.00719717e-02\n",
      "  -3.79293188e-02  1.93217210e-03  4.00530994e-02 -8.77075195e-02\n",
      "  -3.68490815e-02  8.57964996e-03 -3.19251940e-02 -1.25257680e-02\n",
      "   7.35540017e-02  1.34735845e-03  2.05918569e-02  2.71098366e-33\n",
      "  -5.18576466e-02  5.78361340e-02 -9.18985531e-02  3.94421555e-02\n",
      "   1.05576560e-01 -1.96911916e-02  6.18402250e-02 -7.63465241e-02\n",
      "   2.40880530e-02  9.40049216e-02 -1.16535410e-01  3.71198654e-02\n",
      "   5.22425696e-02 -3.95857869e-03  5.72214834e-02  5.32852393e-03\n",
      "   1.24016851e-01  1.39022572e-02 -1.10250209e-02  3.56053077e-02\n",
      "  -3.30755040e-02  8.16574320e-02 -1.52004082e-02  6.05585761e-02\n",
      "  -6.01397604e-02  3.26102227e-02 -3.48296203e-02 -1.69881806e-02\n",
      "  -9.74907205e-02 -2.71484610e-02  1.74711633e-03 -7.68982619e-02\n",
      "  -4.31858189e-02 -1.89984385e-02 -2.91661024e-02  5.77488132e-02\n",
      "   2.41821315e-02 -1.16902422e-02 -6.21435121e-02  2.84351185e-02\n",
      "  -2.37509070e-04 -2.51783691e-02  4.39638458e-03  8.12839717e-02\n",
      "   3.64183746e-02 -6.04006127e-02 -3.65517214e-02 -7.93748572e-02\n",
      "  -5.08519588e-03  6.69698641e-02 -1.17784359e-01  3.23743336e-02\n",
      "  -4.71252836e-02 -1.34459762e-02 -9.48444828e-02  8.24952405e-03\n",
      "  -1.06748492e-02 -6.81881756e-02  1.11815624e-03  2.48020142e-02\n",
      "  -6.35889247e-02  2.84493398e-02 -2.61303876e-02  8.58111158e-02\n",
      "   1.14682265e-01 -5.35345823e-02 -5.63588552e-02  4.26009446e-02\n",
      "   1.09454580e-02  2.09579393e-02  1.00131087e-01  3.26050930e-02\n",
      "  -1.84208810e-01 -3.93208489e-02 -6.91454858e-02 -6.38104975e-02\n",
      "  -6.56386092e-02 -6.41250331e-03 -4.79612239e-02 -7.68133402e-02\n",
      "   2.95384806e-02 -2.29948126e-02  4.17036861e-02 -2.50048023e-02\n",
      "  -4.54506325e-03 -4.17136289e-02 -1.32289538e-02 -6.38357475e-02\n",
      "  -2.46470957e-03 -1.37337623e-02  1.68976486e-02 -6.30397946e-02\n",
      "   8.98880661e-02  4.18171361e-02 -1.85687486e-02 -1.80442203e-08\n",
      "  -1.67998113e-02 -3.21577750e-02  6.30383641e-02 -4.13091779e-02\n",
      "   4.44818512e-02  2.02465826e-03  6.29592463e-02 -5.17372787e-03\n",
      "  -1.00444360e-02 -3.05640046e-02  3.52673084e-02  5.58581278e-02\n",
      "  -4.67124581e-02  3.45103405e-02  3.29577923e-02  4.30114418e-02\n",
      "   2.94360984e-02 -3.03164925e-02 -1.71107780e-02  7.37484768e-02\n",
      "  -5.47910184e-02  2.77515333e-02  6.20166445e-03  1.58800371e-02\n",
      "   3.42978872e-02 -5.15752332e-03  2.35079918e-02  7.53135830e-02\n",
      "   1.92843098e-02  3.36197019e-02  5.09103350e-02  1.52497098e-01\n",
      "   1.64207704e-02  2.70528309e-02  3.75162177e-02  2.18552630e-02\n",
      "   5.66333644e-02 -3.95746306e-02  7.12313578e-02 -5.41377515e-02\n",
      "   1.03766785e-03  2.11852826e-02 -3.56309339e-02  1.09016888e-01\n",
      "   2.76535540e-03  3.13997492e-02  1.38421520e-03 -3.45738530e-02\n",
      "  -4.59278002e-02  2.88083479e-02  7.16900127e-03  4.84684594e-02\n",
      "   2.61018667e-02 -9.44069773e-03  2.82169618e-02  3.48724686e-02\n",
      "   3.69098783e-02 -8.58951639e-03 -3.53205428e-02 -2.47857179e-02\n",
      "  -1.91921089e-02  3.80707346e-02  5.99653088e-02 -4.22287583e-02]\n",
      " [ 8.64386186e-02  1.02762640e-01  5.39459009e-03  2.04444467e-03\n",
      "  -9.96333174e-03  2.53855307e-02  4.92875278e-02 -3.06265336e-02\n",
      "   6.87254742e-02  1.01365978e-02  7.75397792e-02 -9.00807604e-02\n",
      "   6.10617967e-03 -5.69898561e-02  1.41714737e-02  2.80491896e-02\n",
      "  -8.68465006e-02  7.64399022e-02 -1.03491336e-01 -6.77438080e-02\n",
      "   6.99946731e-02  8.44251215e-02 -7.24912016e-03  1.04770251e-02\n",
      "   1.34020718e-02  6.77577108e-02 -9.42086354e-02 -3.71690020e-02\n",
      "   5.22617474e-02 -3.10853347e-02 -9.63406861e-02  1.57716777e-02\n",
      "   2.57866438e-02  7.85245225e-02  7.89949074e-02  1.91516019e-02\n",
      "   1.64356697e-02  3.10087577e-03  3.81311364e-02  2.37090718e-02\n",
      "   1.05389925e-02 -4.40644659e-02  4.41738851e-02 -2.58727930e-02\n",
      "   6.15378693e-02 -4.05427888e-02 -8.64139870e-02  3.19722369e-02\n",
      "  -8.90655385e-04 -2.44437438e-02 -9.19720978e-02  2.33939607e-02\n",
      "  -8.30293372e-02  4.41510752e-02 -2.49693133e-02  6.23020530e-02\n",
      "  -1.30354939e-03  7.51395598e-02  2.46385187e-02 -6.47244602e-02\n",
      "  -1.17727757e-01  3.83392200e-02 -9.11767483e-02  6.35445938e-02\n",
      "   7.62739927e-02 -8.80241320e-02  9.54558980e-03 -4.69717681e-02\n",
      "  -8.41740519e-02  3.88824008e-02 -1.14393547e-01  6.28858944e-03\n",
      "  -3.49361785e-02  2.39750128e-02 -3.31316851e-02 -1.57243740e-02\n",
      "  -3.78955640e-02 -8.81250110e-03  7.06119165e-02  3.28066610e-02\n",
      "   2.03670748e-03 -1.12279005e-01  6.79721404e-03  1.22765806e-02\n",
      "   3.35303992e-02 -1.36200720e-02 -2.25490164e-02 -2.25228965e-02\n",
      "  -2.03194916e-02  5.04297465e-02 -7.48652741e-02 -8.22822452e-02\n",
      "   7.65962675e-02  4.93391976e-02 -3.75553370e-02  1.44634498e-02\n",
      "  -5.72458208e-02 -1.79954544e-02  1.09697953e-01  1.19462796e-01\n",
      "   8.09218735e-04  6.17057346e-02  3.26322243e-02 -1.30780101e-01\n",
      "  -1.48636624e-01 -6.16232529e-02  4.33886014e-02  2.67129280e-02\n",
      "   1.39785958e-02 -3.94002311e-02 -2.52711661e-02  3.87742114e-03\n",
      "   3.58664766e-02 -6.15420267e-02  3.76660526e-02  2.67565195e-02\n",
      "  -3.82659324e-02 -3.54793221e-02 -2.39227433e-02  8.67977366e-02\n",
      "  -1.84062775e-02  7.71039501e-02  1.39859400e-03  7.00383186e-02\n",
      "  -4.77877632e-02 -7.89819732e-02  5.10814711e-02 -2.99868297e-33\n",
      "  -3.91646400e-02 -2.56212428e-03  1.65210702e-02  9.48939100e-03\n",
      "  -5.66219315e-02  6.57783151e-02 -4.77002710e-02  1.11661917e-02\n",
      "  -5.73558509e-02 -9.16259550e-03 -2.17521358e-02 -5.59531748e-02\n",
      "  -1.11423098e-02  9.32793096e-02  1.66765172e-02 -1.36723677e-02\n",
      "   4.34388407e-02  1.87244453e-03  7.29948329e-03  5.16332202e-02\n",
      "   4.80608270e-02  1.35341421e-01 -1.71738882e-02 -1.29698580e-02\n",
      "  -7.50110149e-02  2.61107851e-02  2.69802064e-02  7.83080002e-04\n",
      "  -4.87270579e-02  1.17842667e-02 -4.59580608e-02 -4.83213142e-02\n",
      "  -1.95671171e-02  1.93889644e-02  1.98807288e-02  1.67432316e-02\n",
      "   9.87801328e-02 -2.74087656e-02  2.34809089e-02  3.70230130e-03\n",
      "  -6.14515133e-02 -1.21230143e-03 -9.50473547e-03  9.25153401e-03\n",
      "   2.38443948e-02  8.61231983e-02  2.26789732e-02  5.45134302e-04\n",
      "   3.47129293e-02  6.25465577e-03 -6.92776730e-03  3.92400324e-02\n",
      "   1.15674883e-02  3.26280147e-02  6.22155555e-02  2.76114438e-02\n",
      "   1.86883416e-02  3.55806202e-02  4.11796197e-02  1.54782515e-02\n",
      "   4.22691517e-02  3.82248424e-02  1.00313174e-02 -2.83245966e-02\n",
      "   4.47052568e-02 -4.10458855e-02 -4.50547598e-03 -5.44734262e-02\n",
      "   2.62320656e-02  1.79862622e-02 -1.23118743e-01 -4.66952100e-02\n",
      "  -1.35913156e-02  6.46710768e-02  3.57349613e-03 -1.22233965e-02\n",
      "  -1.79382227e-02 -2.55501978e-02  2.37224102e-02  4.08668909e-03\n",
      "  -6.51476234e-02  4.43651415e-02  4.68596071e-02 -3.25175226e-02\n",
      "   4.02265880e-03 -3.97606753e-03  1.11939432e-02 -9.95597765e-02\n",
      "   3.33168171e-02  8.01060647e-02  9.42692012e-02 -6.38294369e-02\n",
      "   3.23151648e-02 -5.13553210e-02 -7.49873789e-03  5.30048035e-34\n",
      "  -4.13194820e-02  9.49646905e-02 -1.06401421e-01  4.96590547e-02\n",
      "  -3.41913216e-02 -3.16745602e-02 -1.71556138e-02  1.70102133e-03\n",
      "   5.79757802e-02 -1.21775281e-03 -1.68536231e-02 -5.16912304e-02\n",
      "   5.52999042e-02 -3.42647545e-02  3.08179427e-02 -3.10480632e-02\n",
      "   9.27532539e-02  3.72663774e-02 -2.37398259e-02  4.45893556e-02\n",
      "   1.46153728e-02  1.16239399e-01 -5.00112772e-02  3.88716348e-02\n",
      "   4.24741907e-03  2.56976653e-02  3.27243507e-02  4.29907516e-02\n",
      "  -1.36144720e-02  2.56121922e-02  1.06262350e-02 -8.46863911e-02\n",
      "  -9.52982306e-02  1.08399853e-01 -7.51600116e-02 -1.37773305e-02\n",
      "   6.37338385e-02 -4.49670106e-03 -3.25321406e-02  6.23613931e-02\n",
      "   3.48053165e-02 -3.54922414e-02 -2.00222488e-02  3.66608202e-02\n",
      "  -2.48837043e-02  1.01818396e-02 -7.01233074e-02 -4.31951135e-02\n",
      "   2.95333043e-02 -2.94897152e-04 -3.45386937e-02  1.46676069e-02\n",
      "  -9.83969569e-02 -4.70487997e-02 -8.85497779e-03 -8.89913887e-02\n",
      "   3.50996107e-02 -1.29601985e-01 -4.98866327e-02 -6.12047128e-02\n",
      "  -5.97797856e-02  9.46318451e-03  4.91217524e-02 -7.75026679e-02\n",
      "   8.09727535e-02 -4.79257703e-02  2.34378478e-03  7.57031292e-02\n",
      "  -2.40175501e-02 -1.52546102e-02  4.86738607e-02 -3.85968462e-02\n",
      "  -7.04831481e-02 -1.20348325e-02 -3.88790555e-02 -7.76017085e-02\n",
      "  -1.07243825e-02  1.04188006e-02 -2.13754009e-02 -9.17386487e-02\n",
      "  -1.11344792e-02 -2.96066254e-02  2.46458128e-02  4.65710741e-03\n",
      "  -1.63449664e-02 -3.95219587e-02  7.73373842e-02 -2.84732878e-02\n",
      "  -3.69940023e-03  8.27665329e-02 -1.10409427e-02  3.13983113e-02\n",
      "   5.35094514e-02  5.75145595e-02 -3.17622237e-02 -1.52911266e-08\n",
      "  -7.99661279e-02 -4.76796851e-02 -8.59788880e-02  5.69616966e-02\n",
      "  -4.08866741e-02  2.23832317e-02 -4.64447960e-03 -3.80130671e-02\n",
      "  -3.10671069e-02 -1.07278088e-02  1.97698511e-02  7.77003681e-03\n",
      "  -6.09470485e-03 -3.86375748e-02  2.80271824e-02  6.78137615e-02\n",
      "  -2.35351883e-02  3.21747027e-02  8.02536681e-03 -2.39107441e-02\n",
      "  -1.21995620e-03  3.14598717e-02 -5.24924137e-02 -8.06814060e-03\n",
      "   3.14776623e-03  5.11496365e-02 -4.44104485e-02  6.36013523e-02\n",
      "   3.85084078e-02  3.30433398e-02 -4.18728171e-03  4.95592803e-02\n",
      "  -5.69605418e-02 -6.49710884e-03 -2.49792952e-02 -1.60866864e-02\n",
      "   6.62289709e-02 -2.06310973e-02  1.08045734e-01  1.68547146e-02\n",
      "   1.43812140e-02 -1.32127302e-02 -1.29387408e-01  6.95216507e-02\n",
      "  -5.55772707e-02 -6.75413162e-02 -5.45820827e-03 -6.13595359e-03\n",
      "   3.90841104e-02 -6.28779158e-02  3.74063365e-02 -1.16570946e-02\n",
      "   1.29150003e-02 -5.52495457e-02  5.16075641e-02 -4.30842442e-03\n",
      "   5.80247715e-02  1.86945219e-02  2.27810405e-02  3.21665518e-02\n",
      "   5.37978746e-02  7.02849030e-02  7.49312192e-02 -8.41775090e-02]]\n"
     ]
    }
   ],
   "source": [
    "from sentence_transformers import SentenceTransformer\n",
    "sentences = [\"This is an example sentence\", \"Each sentence is converted\"]\n",
    "\n",
    "model = SentenceTransformer('sentence-transformers/all-MiniLM-L6-v2')\n",
    "embeddings = model.encode(sentences)\n",
    "print(embeddings)\n"
   ]
  },
  {
   "cell_type": "code",
   "execution_count": 28,
   "metadata": {},
   "outputs": [],
   "source": [
    "embeddings=download_hugging_face_embeddings()"
   ]
  },
  {
   "cell_type": "code",
   "execution_count": 29,
   "metadata": {},
   "outputs": [
    {
     "name": "stdout",
     "output_type": "stream",
     "text": [
      "length 384\n"
     ]
    }
   ],
   "source": [
    "query_result=embeddings.embed_query(\"Hello world\")\n",
    "print(\"length\",len(query_result))"
   ]
  },
  {
   "cell_type": "code",
   "execution_count": 51,
   "metadata": {},
   "outputs": [
    {
     "data": {
      "text/plain": [
       "True"
      ]
     },
     "execution_count": 51,
     "metadata": {},
     "output_type": "execute_result"
    }
   ],
   "source": [
    "from dotenv import load_dotenv\n",
    "load_dotenv()"
   ]
  },
  {
   "cell_type": "code",
   "execution_count": 32,
   "metadata": {},
   "outputs": [],
   "source": [
    "import os"
   ]
  },
  {
   "cell_type": "code",
   "execution_count": 50,
   "metadata": {},
   "outputs": [],
   "source": [
    "PINECONE_API_KEY=os.environ.get('PINECONE_API_KEY')\n",
    "OPENAI_API_KEY=os.environ.get('OPENAI_API_KEY')"
   ]
  },
  {
   "cell_type": "code",
   "execution_count": 40,
   "metadata": {},
   "outputs": [
    {
     "ename": "PineconeApiException",
     "evalue": "(409)\nReason: Conflict\nHTTP response headers: HTTPHeaderDict({'content-type': 'text/plain; charset=utf-8', 'access-control-allow-origin': '*', 'vary': 'origin,access-control-request-method,access-control-request-headers', 'access-control-expose-headers': '*', 'x-pinecone-api-version': '2024-07', 'X-Cloud-Trace-Context': '60ed2ec40543eb2af25bdf3fcb32aafd', 'Date': 'Tue, 24 Dec 2024 16:02:15 GMT', 'Server': 'Google Frontend', 'Content-Length': '85', 'Via': '1.1 google', 'Alt-Svc': 'h3=\":443\"; ma=2592000,h3-29=\":443\"; ma=2592000'})\nHTTP response body: {\"error\":{\"code\":\"ALREADY_EXISTS\",\"message\":\"Resource  already exists\"},\"status\":409}\n",
     "output_type": "error",
     "traceback": [
      "\u001b[1;31m---------------------------------------------------------------------------\u001b[0m",
      "\u001b[1;31mPineconeApiException\u001b[0m                      Traceback (most recent call last)",
      "Cell \u001b[1;32mIn[40], line 10\u001b[0m\n\u001b[0;32m      5\u001b[0m pc \u001b[38;5;241m=\u001b[39m Pinecone(api_key\u001b[38;5;241m=\u001b[39mPINECONE_API_KEY)\n\u001b[0;32m      7\u001b[0m index_name \u001b[38;5;241m=\u001b[39m \u001b[38;5;124m\"\u001b[39m\u001b[38;5;124mmedicalbot\u001b[39m\u001b[38;5;124m\"\u001b[39m\n\u001b[1;32m---> 10\u001b[0m \u001b[43mpc\u001b[49m\u001b[38;5;241;43m.\u001b[39;49m\u001b[43mcreate_index\u001b[49m\u001b[43m(\u001b[49m\n\u001b[0;32m     11\u001b[0m \u001b[43m    \u001b[49m\u001b[43mname\u001b[49m\u001b[38;5;241;43m=\u001b[39;49m\u001b[43mindex_name\u001b[49m\u001b[43m,\u001b[49m\n\u001b[0;32m     12\u001b[0m \u001b[43m    \u001b[49m\u001b[43mdimension\u001b[49m\u001b[38;5;241;43m=\u001b[39;49m\u001b[38;5;241;43m384\u001b[39;49m\u001b[43m,\u001b[49m\u001b[43m \u001b[49m\n\u001b[0;32m     13\u001b[0m \u001b[43m    \u001b[49m\u001b[43mmetric\u001b[49m\u001b[38;5;241;43m=\u001b[39;49m\u001b[38;5;124;43m\"\u001b[39;49m\u001b[38;5;124;43mcosine\u001b[39;49m\u001b[38;5;124;43m\"\u001b[39;49m\u001b[43m,\u001b[49m\u001b[43m \u001b[49m\n\u001b[0;32m     14\u001b[0m \u001b[43m    \u001b[49m\u001b[43mspec\u001b[49m\u001b[38;5;241;43m=\u001b[39;49m\u001b[43mServerlessSpec\u001b[49m\u001b[43m(\u001b[49m\n\u001b[0;32m     15\u001b[0m \u001b[43m        \u001b[49m\u001b[43mcloud\u001b[49m\u001b[38;5;241;43m=\u001b[39;49m\u001b[38;5;124;43m\"\u001b[39;49m\u001b[38;5;124;43maws\u001b[39;49m\u001b[38;5;124;43m\"\u001b[39;49m\u001b[43m,\u001b[49m\u001b[43m \u001b[49m\n\u001b[0;32m     16\u001b[0m \u001b[43m        \u001b[49m\u001b[43mregion\u001b[49m\u001b[38;5;241;43m=\u001b[39;49m\u001b[38;5;124;43m\"\u001b[39;49m\u001b[38;5;124;43mus-east-1\u001b[39;49m\u001b[38;5;124;43m\"\u001b[39;49m\n\u001b[0;32m     17\u001b[0m \u001b[43m    \u001b[49m\u001b[43m)\u001b[49m\u001b[43m \u001b[49m\n\u001b[0;32m     18\u001b[0m \u001b[43m)\u001b[49m \n",
      "File \u001b[1;32mc:\\Users\\Surbhi\\Desktop\\OpenAI-Demo\\New_Med\\New_med\\medicalbot\\Lib\\site-packages\\pinecone\\control\\pinecone.py:373\u001b[0m, in \u001b[0;36mPinecone.create_index\u001b[1;34m(self, name, dimension, spec, metric, timeout, deletion_protection)\u001b[0m\n\u001b[0;32m    370\u001b[0m \u001b[38;5;28;01melse\u001b[39;00m:\n\u001b[0;32m    371\u001b[0m     \u001b[38;5;28;01mraise\u001b[39;00m \u001b[38;5;167;01mTypeError\u001b[39;00m(\u001b[38;5;124m\"\u001b[39m\u001b[38;5;124mspec must be of type dict, ServerlessSpec, or PodSpec\u001b[39m\u001b[38;5;124m\"\u001b[39m)\n\u001b[1;32m--> 373\u001b[0m \u001b[43mapi_instance\u001b[49m\u001b[38;5;241;43m.\u001b[39;49m\u001b[43mcreate_index\u001b[49m\u001b[43m(\u001b[49m\n\u001b[0;32m    374\u001b[0m \u001b[43m    \u001b[49m\u001b[43mcreate_index_request\u001b[49m\u001b[38;5;241;43m=\u001b[39;49m\u001b[43mCreateIndexRequest\u001b[49m\u001b[43m(\u001b[49m\n\u001b[0;32m    375\u001b[0m \u001b[43m        \u001b[49m\u001b[43mname\u001b[49m\u001b[38;5;241;43m=\u001b[39;49m\u001b[43mname\u001b[49m\u001b[43m,\u001b[49m\n\u001b[0;32m    376\u001b[0m \u001b[43m        \u001b[49m\u001b[43mdimension\u001b[49m\u001b[38;5;241;43m=\u001b[39;49m\u001b[43mdimension\u001b[49m\u001b[43m,\u001b[49m\n\u001b[0;32m    377\u001b[0m \u001b[43m        \u001b[49m\u001b[43mmetric\u001b[49m\u001b[38;5;241;43m=\u001b[39;49m\u001b[43mmetric\u001b[49m\u001b[43m,\u001b[49m\n\u001b[0;32m    378\u001b[0m \u001b[43m        \u001b[49m\u001b[43mspec\u001b[49m\u001b[38;5;241;43m=\u001b[39;49m\u001b[43mindex_spec\u001b[49m\u001b[43m,\u001b[49m\n\u001b[0;32m    379\u001b[0m \u001b[43m        \u001b[49m\u001b[43mdeletion_protection\u001b[49m\u001b[38;5;241;43m=\u001b[39;49m\u001b[43mdp\u001b[49m\u001b[43m,\u001b[49m\n\u001b[0;32m    380\u001b[0m \u001b[43m    \u001b[49m\u001b[43m)\u001b[49m\n\u001b[0;32m    381\u001b[0m \u001b[43m\u001b[49m\u001b[43m)\u001b[49m\n\u001b[0;32m    383\u001b[0m \u001b[38;5;28;01mdef\u001b[39;00m \u001b[38;5;21mis_ready\u001b[39m():\n\u001b[0;32m    384\u001b[0m     status \u001b[38;5;241m=\u001b[39m \u001b[38;5;28mself\u001b[39m\u001b[38;5;241m.\u001b[39m_get_status(name)\n",
      "File \u001b[1;32mc:\\Users\\Surbhi\\Desktop\\OpenAI-Demo\\New_Med\\New_med\\medicalbot\\Lib\\site-packages\\pinecone\\core\\openapi\\shared\\api_client.py:821\u001b[0m, in \u001b[0;36mEndpoint.__call__\u001b[1;34m(self, *args, **kwargs)\u001b[0m\n\u001b[0;32m    810\u001b[0m \u001b[38;5;28;01mdef\u001b[39;00m \u001b[38;5;21m__call__\u001b[39m(\u001b[38;5;28mself\u001b[39m, \u001b[38;5;241m*\u001b[39margs, \u001b[38;5;241m*\u001b[39m\u001b[38;5;241m*\u001b[39mkwargs):\n\u001b[0;32m    811\u001b[0m \u001b[38;5;250m    \u001b[39m\u001b[38;5;124;03m\"\"\"This method is invoked when endpoints are called\u001b[39;00m\n\u001b[0;32m    812\u001b[0m \u001b[38;5;124;03m    Example:\u001b[39;00m\n\u001b[0;32m    813\u001b[0m \n\u001b[1;32m   (...)\u001b[0m\n\u001b[0;32m    819\u001b[0m \n\u001b[0;32m    820\u001b[0m \u001b[38;5;124;03m    \"\"\"\u001b[39;00m\n\u001b[1;32m--> 821\u001b[0m     \u001b[38;5;28;01mreturn\u001b[39;00m \u001b[38;5;28;43mself\u001b[39;49m\u001b[38;5;241;43m.\u001b[39;49m\u001b[43mcallable\u001b[49m\u001b[43m(\u001b[49m\u001b[38;5;28;43mself\u001b[39;49m\u001b[43m,\u001b[49m\u001b[43m \u001b[49m\u001b[38;5;241;43m*\u001b[39;49m\u001b[43margs\u001b[49m\u001b[43m,\u001b[49m\u001b[43m \u001b[49m\u001b[38;5;241;43m*\u001b[39;49m\u001b[38;5;241;43m*\u001b[39;49m\u001b[43mkwargs\u001b[49m\u001b[43m)\u001b[49m\n",
      "File \u001b[1;32mc:\\Users\\Surbhi\\Desktop\\OpenAI-Demo\\New_Med\\New_med\\medicalbot\\Lib\\site-packages\\pinecone\\core\\openapi\\control\\api\\manage_indexes_api.py:273\u001b[0m, in \u001b[0;36mManageIndexesApi.__init__.<locals>.__create_index\u001b[1;34m(self, create_index_request, **kwargs)\u001b[0m\n\u001b[0;32m    271\u001b[0m kwargs[\u001b[38;5;124m\"\u001b[39m\u001b[38;5;124m_host_index\u001b[39m\u001b[38;5;124m\"\u001b[39m] \u001b[38;5;241m=\u001b[39m kwargs\u001b[38;5;241m.\u001b[39mget(\u001b[38;5;124m\"\u001b[39m\u001b[38;5;124m_host_index\u001b[39m\u001b[38;5;124m\"\u001b[39m)\n\u001b[0;32m    272\u001b[0m kwargs[\u001b[38;5;124m\"\u001b[39m\u001b[38;5;124mcreate_index_request\u001b[39m\u001b[38;5;124m\"\u001b[39m] \u001b[38;5;241m=\u001b[39m create_index_request\n\u001b[1;32m--> 273\u001b[0m \u001b[38;5;28;01mreturn\u001b[39;00m \u001b[38;5;28;43mself\u001b[39;49m\u001b[38;5;241;43m.\u001b[39;49m\u001b[43mcall_with_http_info\u001b[49m\u001b[43m(\u001b[49m\u001b[38;5;241;43m*\u001b[39;49m\u001b[38;5;241;43m*\u001b[39;49m\u001b[43mkwargs\u001b[49m\u001b[43m)\u001b[49m\n",
      "File \u001b[1;32mc:\\Users\\Surbhi\\Desktop\\OpenAI-Demo\\New_Med\\New_med\\medicalbot\\Lib\\site-packages\\pinecone\\core\\openapi\\shared\\api_client.py:879\u001b[0m, in \u001b[0;36mEndpoint.call_with_http_info\u001b[1;34m(self, **kwargs)\u001b[0m\n\u001b[0;32m    876\u001b[0m     header_list \u001b[38;5;241m=\u001b[39m \u001b[38;5;28mself\u001b[39m\u001b[38;5;241m.\u001b[39mapi_client\u001b[38;5;241m.\u001b[39mselect_header_content_type(content_type_headers_list)\n\u001b[0;32m    877\u001b[0m     params[\u001b[38;5;124m\"\u001b[39m\u001b[38;5;124mheader\u001b[39m\u001b[38;5;124m\"\u001b[39m][\u001b[38;5;124m\"\u001b[39m\u001b[38;5;124mContent-Type\u001b[39m\u001b[38;5;124m\"\u001b[39m] \u001b[38;5;241m=\u001b[39m header_list\n\u001b[1;32m--> 879\u001b[0m \u001b[38;5;28;01mreturn\u001b[39;00m \u001b[38;5;28;43mself\u001b[39;49m\u001b[38;5;241;43m.\u001b[39;49m\u001b[43mapi_client\u001b[49m\u001b[38;5;241;43m.\u001b[39;49m\u001b[43mcall_api\u001b[49m\u001b[43m(\u001b[49m\n\u001b[0;32m    880\u001b[0m \u001b[43m    \u001b[49m\u001b[38;5;28;43mself\u001b[39;49m\u001b[38;5;241;43m.\u001b[39;49m\u001b[43msettings\u001b[49m\u001b[43m[\u001b[49m\u001b[38;5;124;43m\"\u001b[39;49m\u001b[38;5;124;43mendpoint_path\u001b[39;49m\u001b[38;5;124;43m\"\u001b[39;49m\u001b[43m]\u001b[49m\u001b[43m,\u001b[49m\n\u001b[0;32m    881\u001b[0m \u001b[43m    \u001b[49m\u001b[38;5;28;43mself\u001b[39;49m\u001b[38;5;241;43m.\u001b[39;49m\u001b[43msettings\u001b[49m\u001b[43m[\u001b[49m\u001b[38;5;124;43m\"\u001b[39;49m\u001b[38;5;124;43mhttp_method\u001b[39;49m\u001b[38;5;124;43m\"\u001b[39;49m\u001b[43m]\u001b[49m\u001b[43m,\u001b[49m\n\u001b[0;32m    882\u001b[0m \u001b[43m    \u001b[49m\u001b[43mparams\u001b[49m\u001b[43m[\u001b[49m\u001b[38;5;124;43m\"\u001b[39;49m\u001b[38;5;124;43mpath\u001b[39;49m\u001b[38;5;124;43m\"\u001b[39;49m\u001b[43m]\u001b[49m\u001b[43m,\u001b[49m\n\u001b[0;32m    883\u001b[0m \u001b[43m    \u001b[49m\u001b[43mparams\u001b[49m\u001b[43m[\u001b[49m\u001b[38;5;124;43m\"\u001b[39;49m\u001b[38;5;124;43mquery\u001b[39;49m\u001b[38;5;124;43m\"\u001b[39;49m\u001b[43m]\u001b[49m\u001b[43m,\u001b[49m\n\u001b[0;32m    884\u001b[0m \u001b[43m    \u001b[49m\u001b[43mparams\u001b[49m\u001b[43m[\u001b[49m\u001b[38;5;124;43m\"\u001b[39;49m\u001b[38;5;124;43mheader\u001b[39;49m\u001b[38;5;124;43m\"\u001b[39;49m\u001b[43m]\u001b[49m\u001b[43m,\u001b[49m\n\u001b[0;32m    885\u001b[0m \u001b[43m    \u001b[49m\u001b[43mbody\u001b[49m\u001b[38;5;241;43m=\u001b[39;49m\u001b[43mparams\u001b[49m\u001b[43m[\u001b[49m\u001b[38;5;124;43m\"\u001b[39;49m\u001b[38;5;124;43mbody\u001b[39;49m\u001b[38;5;124;43m\"\u001b[39;49m\u001b[43m]\u001b[49m\u001b[43m,\u001b[49m\n\u001b[0;32m    886\u001b[0m \u001b[43m    \u001b[49m\u001b[43mpost_params\u001b[49m\u001b[38;5;241;43m=\u001b[39;49m\u001b[43mparams\u001b[49m\u001b[43m[\u001b[49m\u001b[38;5;124;43m\"\u001b[39;49m\u001b[38;5;124;43mform\u001b[39;49m\u001b[38;5;124;43m\"\u001b[39;49m\u001b[43m]\u001b[49m\u001b[43m,\u001b[49m\n\u001b[0;32m    887\u001b[0m \u001b[43m    \u001b[49m\u001b[43mfiles\u001b[49m\u001b[38;5;241;43m=\u001b[39;49m\u001b[43mparams\u001b[49m\u001b[43m[\u001b[49m\u001b[38;5;124;43m\"\u001b[39;49m\u001b[38;5;124;43mfile\u001b[39;49m\u001b[38;5;124;43m\"\u001b[39;49m\u001b[43m]\u001b[49m\u001b[43m,\u001b[49m\n\u001b[0;32m    888\u001b[0m \u001b[43m    \u001b[49m\u001b[43mresponse_type\u001b[49m\u001b[38;5;241;43m=\u001b[39;49m\u001b[38;5;28;43mself\u001b[39;49m\u001b[38;5;241;43m.\u001b[39;49m\u001b[43msettings\u001b[49m\u001b[43m[\u001b[49m\u001b[38;5;124;43m\"\u001b[39;49m\u001b[38;5;124;43mresponse_type\u001b[39;49m\u001b[38;5;124;43m\"\u001b[39;49m\u001b[43m]\u001b[49m\u001b[43m,\u001b[49m\n\u001b[0;32m    889\u001b[0m \u001b[43m    \u001b[49m\u001b[43mauth_settings\u001b[49m\u001b[38;5;241;43m=\u001b[39;49m\u001b[38;5;28;43mself\u001b[39;49m\u001b[38;5;241;43m.\u001b[39;49m\u001b[43msettings\u001b[49m\u001b[43m[\u001b[49m\u001b[38;5;124;43m\"\u001b[39;49m\u001b[38;5;124;43mauth\u001b[39;49m\u001b[38;5;124;43m\"\u001b[39;49m\u001b[43m]\u001b[49m\u001b[43m,\u001b[49m\n\u001b[0;32m    890\u001b[0m \u001b[43m    \u001b[49m\u001b[43masync_req\u001b[49m\u001b[38;5;241;43m=\u001b[39;49m\u001b[43mkwargs\u001b[49m\u001b[43m[\u001b[49m\u001b[38;5;124;43m\"\u001b[39;49m\u001b[38;5;124;43masync_req\u001b[39;49m\u001b[38;5;124;43m\"\u001b[39;49m\u001b[43m]\u001b[49m\u001b[43m,\u001b[49m\n\u001b[0;32m    891\u001b[0m \u001b[43m    \u001b[49m\u001b[43masync_threadpool_executor\u001b[49m\u001b[38;5;241;43m=\u001b[39;49m\u001b[43mkwargs\u001b[49m\u001b[38;5;241;43m.\u001b[39;49m\u001b[43mget\u001b[49m\u001b[43m(\u001b[49m\u001b[38;5;124;43m\"\u001b[39;49m\u001b[38;5;124;43masync_threadpool_executor\u001b[39;49m\u001b[38;5;124;43m\"\u001b[39;49m\u001b[43m,\u001b[49m\u001b[43m \u001b[49m\u001b[38;5;28;43;01mNone\u001b[39;49;00m\u001b[43m)\u001b[49m\u001b[43m,\u001b[49m\n\u001b[0;32m    892\u001b[0m \u001b[43m    \u001b[49m\u001b[43m_check_type\u001b[49m\u001b[38;5;241;43m=\u001b[39;49m\u001b[43mkwargs\u001b[49m\u001b[43m[\u001b[49m\u001b[38;5;124;43m\"\u001b[39;49m\u001b[38;5;124;43m_check_return_type\u001b[39;49m\u001b[38;5;124;43m\"\u001b[39;49m\u001b[43m]\u001b[49m\u001b[43m,\u001b[49m\n\u001b[0;32m    893\u001b[0m \u001b[43m    \u001b[49m\u001b[43m_return_http_data_only\u001b[49m\u001b[38;5;241;43m=\u001b[39;49m\u001b[43mkwargs\u001b[49m\u001b[43m[\u001b[49m\u001b[38;5;124;43m\"\u001b[39;49m\u001b[38;5;124;43m_return_http_data_only\u001b[39;49m\u001b[38;5;124;43m\"\u001b[39;49m\u001b[43m]\u001b[49m\u001b[43m,\u001b[49m\n\u001b[0;32m    894\u001b[0m \u001b[43m    \u001b[49m\u001b[43m_preload_content\u001b[49m\u001b[38;5;241;43m=\u001b[39;49m\u001b[43mkwargs\u001b[49m\u001b[43m[\u001b[49m\u001b[38;5;124;43m\"\u001b[39;49m\u001b[38;5;124;43m_preload_content\u001b[39;49m\u001b[38;5;124;43m\"\u001b[39;49m\u001b[43m]\u001b[49m\u001b[43m,\u001b[49m\n\u001b[0;32m    895\u001b[0m \u001b[43m    \u001b[49m\u001b[43m_request_timeout\u001b[49m\u001b[38;5;241;43m=\u001b[39;49m\u001b[43mkwargs\u001b[49m\u001b[43m[\u001b[49m\u001b[38;5;124;43m\"\u001b[39;49m\u001b[38;5;124;43m_request_timeout\u001b[39;49m\u001b[38;5;124;43m\"\u001b[39;49m\u001b[43m]\u001b[49m\u001b[43m,\u001b[49m\n\u001b[0;32m    896\u001b[0m \u001b[43m    \u001b[49m\u001b[43m_host\u001b[49m\u001b[38;5;241;43m=\u001b[39;49m\u001b[43m_host\u001b[49m\u001b[43m,\u001b[49m\n\u001b[0;32m    897\u001b[0m \u001b[43m    \u001b[49m\u001b[43mcollection_formats\u001b[49m\u001b[38;5;241;43m=\u001b[39;49m\u001b[43mparams\u001b[49m\u001b[43m[\u001b[49m\u001b[38;5;124;43m\"\u001b[39;49m\u001b[38;5;124;43mcollection_format\u001b[39;49m\u001b[38;5;124;43m\"\u001b[39;49m\u001b[43m]\u001b[49m\u001b[43m,\u001b[49m\n\u001b[0;32m    898\u001b[0m \u001b[43m\u001b[49m\u001b[43m)\u001b[49m\n",
      "File \u001b[1;32mc:\\Users\\Surbhi\\Desktop\\OpenAI-Demo\\New_Med\\New_med\\medicalbot\\Lib\\site-packages\\pinecone\\core\\openapi\\shared\\api_client.py:431\u001b[0m, in \u001b[0;36mApiClient.call_api\u001b[1;34m(self, resource_path, method, path_params, query_params, header_params, body, post_params, files, response_type, auth_settings, async_req, async_threadpool_executor, _return_http_data_only, collection_formats, _preload_content, _request_timeout, _host, _check_type)\u001b[0m\n\u001b[0;32m    410\u001b[0m     \u001b[38;5;28;01mreturn\u001b[39;00m \u001b[38;5;28mself\u001b[39m\u001b[38;5;241m.\u001b[39mthreadpool_executor\u001b[38;5;241m.\u001b[39msubmit(\n\u001b[0;32m    411\u001b[0m         \u001b[38;5;28mself\u001b[39m\u001b[38;5;241m.\u001b[39m__call_api,\n\u001b[0;32m    412\u001b[0m         resource_path,\n\u001b[1;32m   (...)\u001b[0m\n\u001b[0;32m    427\u001b[0m         _check_type,\n\u001b[0;32m    428\u001b[0m     )\n\u001b[0;32m    430\u001b[0m \u001b[38;5;28;01mif\u001b[39;00m \u001b[38;5;129;01mnot\u001b[39;00m async_req:\n\u001b[1;32m--> 431\u001b[0m     \u001b[38;5;28;01mreturn\u001b[39;00m \u001b[38;5;28;43mself\u001b[39;49m\u001b[38;5;241;43m.\u001b[39;49m\u001b[43m__call_api\u001b[49m\u001b[43m(\u001b[49m\n\u001b[0;32m    432\u001b[0m \u001b[43m        \u001b[49m\u001b[43mresource_path\u001b[49m\u001b[43m,\u001b[49m\n\u001b[0;32m    433\u001b[0m \u001b[43m        \u001b[49m\u001b[43mmethod\u001b[49m\u001b[43m,\u001b[49m\n\u001b[0;32m    434\u001b[0m \u001b[43m        \u001b[49m\u001b[43mpath_params\u001b[49m\u001b[43m,\u001b[49m\n\u001b[0;32m    435\u001b[0m \u001b[43m        \u001b[49m\u001b[43mquery_params\u001b[49m\u001b[43m,\u001b[49m\n\u001b[0;32m    436\u001b[0m \u001b[43m        \u001b[49m\u001b[43mheader_params\u001b[49m\u001b[43m,\u001b[49m\n\u001b[0;32m    437\u001b[0m \u001b[43m        \u001b[49m\u001b[43mbody\u001b[49m\u001b[43m,\u001b[49m\n\u001b[0;32m    438\u001b[0m \u001b[43m        \u001b[49m\u001b[43mpost_params\u001b[49m\u001b[43m,\u001b[49m\n\u001b[0;32m    439\u001b[0m \u001b[43m        \u001b[49m\u001b[43mfiles\u001b[49m\u001b[43m,\u001b[49m\n\u001b[0;32m    440\u001b[0m \u001b[43m        \u001b[49m\u001b[43mresponse_type\u001b[49m\u001b[43m,\u001b[49m\n\u001b[0;32m    441\u001b[0m \u001b[43m        \u001b[49m\u001b[43mauth_settings\u001b[49m\u001b[43m,\u001b[49m\n\u001b[0;32m    442\u001b[0m \u001b[43m        \u001b[49m\u001b[43m_return_http_data_only\u001b[49m\u001b[43m,\u001b[49m\n\u001b[0;32m    443\u001b[0m \u001b[43m        \u001b[49m\u001b[43mcollection_formats\u001b[49m\u001b[43m,\u001b[49m\n\u001b[0;32m    444\u001b[0m \u001b[43m        \u001b[49m\u001b[43m_preload_content\u001b[49m\u001b[43m,\u001b[49m\n\u001b[0;32m    445\u001b[0m \u001b[43m        \u001b[49m\u001b[43m_request_timeout\u001b[49m\u001b[43m,\u001b[49m\n\u001b[0;32m    446\u001b[0m \u001b[43m        \u001b[49m\u001b[43m_host\u001b[49m\u001b[43m,\u001b[49m\n\u001b[0;32m    447\u001b[0m \u001b[43m        \u001b[49m\u001b[43m_check_type\u001b[49m\u001b[43m,\u001b[49m\n\u001b[0;32m    448\u001b[0m \u001b[43m    \u001b[49m\u001b[43m)\u001b[49m\n\u001b[0;32m    450\u001b[0m \u001b[38;5;28;01mreturn\u001b[39;00m \u001b[38;5;28mself\u001b[39m\u001b[38;5;241m.\u001b[39mpool\u001b[38;5;241m.\u001b[39mapply_async(\n\u001b[0;32m    451\u001b[0m     retry_api_call,\n\u001b[0;32m    452\u001b[0m     args\u001b[38;5;241m=\u001b[39m(\n\u001b[1;32m   (...)\u001b[0m\n\u001b[0;32m    476\u001b[0m     )\n\u001b[0;32m    477\u001b[0m )\n",
      "File \u001b[1;32mc:\\Users\\Surbhi\\Desktop\\OpenAI-Demo\\New_Med\\New_med\\medicalbot\\Lib\\site-packages\\pinecone\\core\\openapi\\shared\\api_client.py:216\u001b[0m, in \u001b[0;36mApiClient.__call_api\u001b[1;34m(self, resource_path, method, path_params, query_params, header_params, body, post_params, files, response_type, auth_settings, _return_http_data_only, collection_formats, _preload_content, _request_timeout, _host, _check_type)\u001b[0m\n\u001b[0;32m    214\u001b[0m \u001b[38;5;28;01mexcept\u001b[39;00m PineconeApiException \u001b[38;5;28;01mas\u001b[39;00m e:\n\u001b[0;32m    215\u001b[0m     e\u001b[38;5;241m.\u001b[39mbody \u001b[38;5;241m=\u001b[39m e\u001b[38;5;241m.\u001b[39mbody\u001b[38;5;241m.\u001b[39mdecode(\u001b[38;5;124m\"\u001b[39m\u001b[38;5;124mutf-8\u001b[39m\u001b[38;5;124m\"\u001b[39m)\n\u001b[1;32m--> 216\u001b[0m     \u001b[38;5;28;01mraise\u001b[39;00m e\n\u001b[0;32m    218\u001b[0m \u001b[38;5;28mself\u001b[39m\u001b[38;5;241m.\u001b[39mlast_response \u001b[38;5;241m=\u001b[39m response_data\n\u001b[0;32m    220\u001b[0m return_data \u001b[38;5;241m=\u001b[39m response_data\n",
      "File \u001b[1;32mc:\\Users\\Surbhi\\Desktop\\OpenAI-Demo\\New_Med\\New_med\\medicalbot\\Lib\\site-packages\\pinecone\\core\\openapi\\shared\\api_client.py:204\u001b[0m, in \u001b[0;36mApiClient.__call_api\u001b[1;34m(self, resource_path, method, path_params, query_params, header_params, body, post_params, files, response_type, auth_settings, _return_http_data_only, collection_formats, _preload_content, _request_timeout, _host, _check_type)\u001b[0m\n\u001b[0;32m    200\u001b[0m     url \u001b[38;5;241m=\u001b[39m _host \u001b[38;5;241m+\u001b[39m resource_path\n\u001b[0;32m    202\u001b[0m \u001b[38;5;28;01mtry\u001b[39;00m:\n\u001b[0;32m    203\u001b[0m     \u001b[38;5;66;03m# perform request and return response\u001b[39;00m\n\u001b[1;32m--> 204\u001b[0m     response_data \u001b[38;5;241m=\u001b[39m \u001b[38;5;28;43mself\u001b[39;49m\u001b[38;5;241;43m.\u001b[39;49m\u001b[43mrequest\u001b[49m\u001b[43m(\u001b[49m\n\u001b[0;32m    205\u001b[0m \u001b[43m        \u001b[49m\u001b[43mmethod\u001b[49m\u001b[43m,\u001b[49m\n\u001b[0;32m    206\u001b[0m \u001b[43m        \u001b[49m\u001b[43murl\u001b[49m\u001b[43m,\u001b[49m\n\u001b[0;32m    207\u001b[0m \u001b[43m        \u001b[49m\u001b[43mquery_params\u001b[49m\u001b[38;5;241;43m=\u001b[39;49m\u001b[43mquery_params\u001b[49m\u001b[43m,\u001b[49m\n\u001b[0;32m    208\u001b[0m \u001b[43m        \u001b[49m\u001b[43mheaders\u001b[49m\u001b[38;5;241;43m=\u001b[39;49m\u001b[43mheader_params\u001b[49m\u001b[43m,\u001b[49m\n\u001b[0;32m    209\u001b[0m \u001b[43m        \u001b[49m\u001b[43mpost_params\u001b[49m\u001b[38;5;241;43m=\u001b[39;49m\u001b[43mpost_params\u001b[49m\u001b[43m,\u001b[49m\n\u001b[0;32m    210\u001b[0m \u001b[43m        \u001b[49m\u001b[43mbody\u001b[49m\u001b[38;5;241;43m=\u001b[39;49m\u001b[43mbody\u001b[49m\u001b[43m,\u001b[49m\n\u001b[0;32m    211\u001b[0m \u001b[43m        \u001b[49m\u001b[43m_preload_content\u001b[49m\u001b[38;5;241;43m=\u001b[39;49m\u001b[43m_preload_content\u001b[49m\u001b[43m,\u001b[49m\n\u001b[0;32m    212\u001b[0m \u001b[43m        \u001b[49m\u001b[43m_request_timeout\u001b[49m\u001b[38;5;241;43m=\u001b[39;49m\u001b[43m_request_timeout\u001b[49m\u001b[43m,\u001b[49m\n\u001b[0;32m    213\u001b[0m \u001b[43m    \u001b[49m\u001b[43m)\u001b[49m\n\u001b[0;32m    214\u001b[0m \u001b[38;5;28;01mexcept\u001b[39;00m PineconeApiException \u001b[38;5;28;01mas\u001b[39;00m e:\n\u001b[0;32m    215\u001b[0m     e\u001b[38;5;241m.\u001b[39mbody \u001b[38;5;241m=\u001b[39m e\u001b[38;5;241m.\u001b[39mbody\u001b[38;5;241m.\u001b[39mdecode(\u001b[38;5;124m\"\u001b[39m\u001b[38;5;124mutf-8\u001b[39m\u001b[38;5;124m\"\u001b[39m)\n",
      "File \u001b[1;32mc:\\Users\\Surbhi\\Desktop\\OpenAI-Demo\\New_Med\\New_med\\medicalbot\\Lib\\site-packages\\pinecone\\core\\openapi\\shared\\api_client.py:518\u001b[0m, in \u001b[0;36mApiClient.request\u001b[1;34m(self, method, url, query_params, headers, post_params, body, _preload_content, _request_timeout)\u001b[0m\n\u001b[0;32m    508\u001b[0m     \u001b[38;5;28;01mreturn\u001b[39;00m \u001b[38;5;28mself\u001b[39m\u001b[38;5;241m.\u001b[39mrest_client\u001b[38;5;241m.\u001b[39mOPTIONS(\n\u001b[0;32m    509\u001b[0m         url,\n\u001b[0;32m    510\u001b[0m         query_params\u001b[38;5;241m=\u001b[39mquery_params,\n\u001b[1;32m   (...)\u001b[0m\n\u001b[0;32m    515\u001b[0m         body\u001b[38;5;241m=\u001b[39mbody,\n\u001b[0;32m    516\u001b[0m     )\n\u001b[0;32m    517\u001b[0m \u001b[38;5;28;01melif\u001b[39;00m method \u001b[38;5;241m==\u001b[39m \u001b[38;5;124m\"\u001b[39m\u001b[38;5;124mPOST\u001b[39m\u001b[38;5;124m\"\u001b[39m:\n\u001b[1;32m--> 518\u001b[0m     \u001b[38;5;28;01mreturn\u001b[39;00m \u001b[38;5;28;43mself\u001b[39;49m\u001b[38;5;241;43m.\u001b[39;49m\u001b[43mrest_client\u001b[49m\u001b[38;5;241;43m.\u001b[39;49m\u001b[43mPOST\u001b[49m\u001b[43m(\u001b[49m\n\u001b[0;32m    519\u001b[0m \u001b[43m        \u001b[49m\u001b[43murl\u001b[49m\u001b[43m,\u001b[49m\n\u001b[0;32m    520\u001b[0m \u001b[43m        \u001b[49m\u001b[43mquery_params\u001b[49m\u001b[38;5;241;43m=\u001b[39;49m\u001b[43mquery_params\u001b[49m\u001b[43m,\u001b[49m\n\u001b[0;32m    521\u001b[0m \u001b[43m        \u001b[49m\u001b[43mheaders\u001b[49m\u001b[38;5;241;43m=\u001b[39;49m\u001b[43mheaders\u001b[49m\u001b[43m,\u001b[49m\n\u001b[0;32m    522\u001b[0m \u001b[43m        \u001b[49m\u001b[43mpost_params\u001b[49m\u001b[38;5;241;43m=\u001b[39;49m\u001b[43mpost_params\u001b[49m\u001b[43m,\u001b[49m\n\u001b[0;32m    523\u001b[0m \u001b[43m        \u001b[49m\u001b[43m_preload_content\u001b[49m\u001b[38;5;241;43m=\u001b[39;49m\u001b[43m_preload_content\u001b[49m\u001b[43m,\u001b[49m\n\u001b[0;32m    524\u001b[0m \u001b[43m        \u001b[49m\u001b[43m_request_timeout\u001b[49m\u001b[38;5;241;43m=\u001b[39;49m\u001b[43m_request_timeout\u001b[49m\u001b[43m,\u001b[49m\n\u001b[0;32m    525\u001b[0m \u001b[43m        \u001b[49m\u001b[43mbody\u001b[49m\u001b[38;5;241;43m=\u001b[39;49m\u001b[43mbody\u001b[49m\u001b[43m,\u001b[49m\n\u001b[0;32m    526\u001b[0m \u001b[43m    \u001b[49m\u001b[43m)\u001b[49m\n\u001b[0;32m    527\u001b[0m \u001b[38;5;28;01melif\u001b[39;00m method \u001b[38;5;241m==\u001b[39m \u001b[38;5;124m\"\u001b[39m\u001b[38;5;124mPUT\u001b[39m\u001b[38;5;124m\"\u001b[39m:\n\u001b[0;32m    528\u001b[0m     \u001b[38;5;28;01mreturn\u001b[39;00m \u001b[38;5;28mself\u001b[39m\u001b[38;5;241m.\u001b[39mrest_client\u001b[38;5;241m.\u001b[39mPUT(\n\u001b[0;32m    529\u001b[0m         url,\n\u001b[0;32m    530\u001b[0m         query_params\u001b[38;5;241m=\u001b[39mquery_params,\n\u001b[1;32m   (...)\u001b[0m\n\u001b[0;32m    535\u001b[0m         body\u001b[38;5;241m=\u001b[39mbody,\n\u001b[0;32m    536\u001b[0m     )\n",
      "File \u001b[1;32mc:\\Users\\Surbhi\\Desktop\\OpenAI-Demo\\New_Med\\New_med\\medicalbot\\Lib\\site-packages\\pinecone\\core\\openapi\\shared\\rest.py:345\u001b[0m, in \u001b[0;36mRESTClientObject.POST\u001b[1;34m(self, url, headers, query_params, post_params, body, _preload_content, _request_timeout)\u001b[0m\n\u001b[0;32m    335\u001b[0m \u001b[38;5;28;01mdef\u001b[39;00m \u001b[38;5;21mPOST\u001b[39m(\n\u001b[0;32m    336\u001b[0m     \u001b[38;5;28mself\u001b[39m,\n\u001b[0;32m    337\u001b[0m     url,\n\u001b[1;32m   (...)\u001b[0m\n\u001b[0;32m    343\u001b[0m     _request_timeout\u001b[38;5;241m=\u001b[39m\u001b[38;5;28;01mNone\u001b[39;00m,\n\u001b[0;32m    344\u001b[0m ):\n\u001b[1;32m--> 345\u001b[0m     \u001b[38;5;28;01mreturn\u001b[39;00m \u001b[38;5;28;43mself\u001b[39;49m\u001b[38;5;241;43m.\u001b[39;49m\u001b[43mrequest\u001b[49m\u001b[43m(\u001b[49m\n\u001b[0;32m    346\u001b[0m \u001b[43m        \u001b[49m\u001b[38;5;124;43m\"\u001b[39;49m\u001b[38;5;124;43mPOST\u001b[39;49m\u001b[38;5;124;43m\"\u001b[39;49m\u001b[43m,\u001b[49m\n\u001b[0;32m    347\u001b[0m \u001b[43m        \u001b[49m\u001b[43murl\u001b[49m\u001b[43m,\u001b[49m\n\u001b[0;32m    348\u001b[0m \u001b[43m        \u001b[49m\u001b[43mheaders\u001b[49m\u001b[38;5;241;43m=\u001b[39;49m\u001b[43mheaders\u001b[49m\u001b[43m,\u001b[49m\n\u001b[0;32m    349\u001b[0m \u001b[43m        \u001b[49m\u001b[43mquery_params\u001b[49m\u001b[38;5;241;43m=\u001b[39;49m\u001b[43mquery_params\u001b[49m\u001b[43m,\u001b[49m\n\u001b[0;32m    350\u001b[0m \u001b[43m        \u001b[49m\u001b[43mpost_params\u001b[49m\u001b[38;5;241;43m=\u001b[39;49m\u001b[43mpost_params\u001b[49m\u001b[43m,\u001b[49m\n\u001b[0;32m    351\u001b[0m \u001b[43m        \u001b[49m\u001b[43m_preload_content\u001b[49m\u001b[38;5;241;43m=\u001b[39;49m\u001b[43m_preload_content\u001b[49m\u001b[43m,\u001b[49m\n\u001b[0;32m    352\u001b[0m \u001b[43m        \u001b[49m\u001b[43m_request_timeout\u001b[49m\u001b[38;5;241;43m=\u001b[39;49m\u001b[43m_request_timeout\u001b[49m\u001b[43m,\u001b[49m\n\u001b[0;32m    353\u001b[0m \u001b[43m        \u001b[49m\u001b[43mbody\u001b[49m\u001b[38;5;241;43m=\u001b[39;49m\u001b[43mbody\u001b[49m\u001b[43m,\u001b[49m\n\u001b[0;32m    354\u001b[0m \u001b[43m    \u001b[49m\u001b[43m)\u001b[49m\n",
      "File \u001b[1;32mc:\\Users\\Surbhi\\Desktop\\OpenAI-Demo\\New_Med\\New_med\\medicalbot\\Lib\\site-packages\\pinecone\\core\\openapi\\shared\\rest.py:279\u001b[0m, in \u001b[0;36mRESTClientObject.request\u001b[1;34m(self, method, url, query_params, headers, body, post_params, _preload_content, _request_timeout)\u001b[0m\n\u001b[0;32m    276\u001b[0m     \u001b[38;5;28;01mif\u001b[39;00m \u001b[38;5;241m500\u001b[39m \u001b[38;5;241m<\u001b[39m\u001b[38;5;241m=\u001b[39m r\u001b[38;5;241m.\u001b[39mstatus \u001b[38;5;241m<\u001b[39m\u001b[38;5;241m=\u001b[39m \u001b[38;5;241m599\u001b[39m:\n\u001b[0;32m    277\u001b[0m         \u001b[38;5;28;01mraise\u001b[39;00m ServiceException(http_resp\u001b[38;5;241m=\u001b[39mr)\n\u001b[1;32m--> 279\u001b[0m     \u001b[38;5;28;01mraise\u001b[39;00m PineconeApiException(http_resp\u001b[38;5;241m=\u001b[39mr)\n\u001b[0;32m    281\u001b[0m \u001b[38;5;28;01mreturn\u001b[39;00m r\n",
      "\u001b[1;31mPineconeApiException\u001b[0m: (409)\nReason: Conflict\nHTTP response headers: HTTPHeaderDict({'content-type': 'text/plain; charset=utf-8', 'access-control-allow-origin': '*', 'vary': 'origin,access-control-request-method,access-control-request-headers', 'access-control-expose-headers': '*', 'x-pinecone-api-version': '2024-07', 'X-Cloud-Trace-Context': '60ed2ec40543eb2af25bdf3fcb32aafd', 'Date': 'Tue, 24 Dec 2024 16:02:15 GMT', 'Server': 'Google Frontend', 'Content-Length': '85', 'Via': '1.1 google', 'Alt-Svc': 'h3=\":443\"; ma=2592000,h3-29=\":443\"; ma=2592000'})\nHTTP response body: {\"error\":{\"code\":\"ALREADY_EXISTS\",\"message\":\"Resource  already exists\"},\"status\":409}\n"
     ]
    }
   ],
   "source": [
    "from pinecone.grpc import PineconeGRPC as Pinecone\n",
    "from pinecone import ServerlessSpec\n",
    "import os\n",
    "\n",
    "pc = Pinecone(api_key=PINECONE_API_KEY)\n",
    "\n",
    "index_name = \"medicalbot\"\n",
    "\n",
    "\n",
    "pc.create_index(\n",
    "    name=index_name,\n",
    "    dimension=384, \n",
    "    metric=\"cosine\", \n",
    "    spec=ServerlessSpec(\n",
    "        cloud=\"aws\", \n",
    "        region=\"us-east-1\"\n",
    "    ) \n",
    ") "
   ]
  },
  {
   "cell_type": "code",
   "execution_count": 38,
   "metadata": {},
   "outputs": [],
   "source": [
    "import os\n",
    "os.environ[\"PINECONE_API_KEY\"]=PINECONE_API_KEY"
   ]
  },
  {
   "cell_type": "code",
   "execution_count": null,
   "metadata": {},
   "outputs": [
    {
     "ename": "ImportError",
     "evalue": "cannot import name 'PineconeVectorStore' from 'langchain_pinecone' (c:\\Users\\Surbhi\\Desktop\\OpenAI-Demo\\New_Med\\New_med\\medicalbot\\Lib\\site-packages\\langchain_pinecone\\__init__.py)",
     "output_type": "error",
     "traceback": [
      "\u001b[1;31m---------------------------------------------------------------------------\u001b[0m",
      "\u001b[1;31mImportError\u001b[0m                               Traceback (most recent call last)",
      "Cell \u001b[1;32mIn[39], line 2\u001b[0m\n\u001b[0;32m      1\u001b[0m \u001b[38;5;66;03m# Embed each chunk and upsert the embeddings into your Pinecone index.\u001b[39;00m\n\u001b[1;32m----> 2\u001b[0m \u001b[38;5;28;01mfrom\u001b[39;00m \u001b[38;5;21;01mlangchain_pinecone\u001b[39;00m \u001b[38;5;28;01mimport\u001b[39;00m PineconeVectorStore\n\u001b[0;32m      4\u001b[0m docsearch \u001b[38;5;241m=\u001b[39m PineconeVectorStore\u001b[38;5;241m.\u001b[39mfrom_documents(\n\u001b[0;32m      5\u001b[0m     documents\u001b[38;5;241m=\u001b[39mtext_chunks,\n\u001b[0;32m      6\u001b[0m     index_name\u001b[38;5;241m=\u001b[39mmedicalbot,\n\u001b[0;32m      7\u001b[0m     embedding\u001b[38;5;241m=\u001b[39membeddings, \n\u001b[0;32m      8\u001b[0m )\n",
      "\u001b[1;31mImportError\u001b[0m: cannot import name 'PineconeVectorStore' from 'langchain_pinecone' (c:\\Users\\Surbhi\\Desktop\\OpenAI-Demo\\New_Med\\New_med\\medicalbot\\Lib\\site-packages\\langchain_pinecone\\__init__.py)"
     ]
    }
   ],
   "source": [
    "# Embed each chunk and upsert the embeddings into your Pinecone index.\n",
    "from langchain_pinecone import PineconeVectorStore\n",
    "\n",
    "docsearch = PineconeVectorStore.from_documents(\n",
    "    documents=text_chunks,\n",
    "    index_name=index_name,\n",
    "    embedding=embeddings, \n",
    ")"
   ]
  },
  {
   "cell_type": "code",
   "execution_count": 41,
   "metadata": {},
   "outputs": [],
   "source": [
    "from langchain.vectorstores import Pinecone"
   ]
  },
  {
   "cell_type": "code",
   "execution_count": 42,
   "metadata": {},
   "outputs": [],
   "source": [
    "docsearch = Pinecone.from_documents(\n",
    "    documents=text_chunks,\n",
    "    index_name=index_name,\n",
    "    embedding=embeddings\n",
    ")"
   ]
  },
  {
   "cell_type": "code",
   "execution_count": 44,
   "metadata": {},
   "outputs": [],
   "source": [
    "# Load Existing index \n",
    "\n",
    "#from langchain_pinecone import PineconeVectorStore\n",
    "# Embed each chunk and upsert the embeddings into your Pinecone index.\n",
    "\n",
    "docsearch = Pinecone.from_existing_index(\n",
    "    index_name=index_name,\n",
    "    embedding=embeddings\n",
    ")"
   ]
  },
  {
   "cell_type": "code",
   "execution_count": 45,
   "metadata": {},
   "outputs": [
    {
     "data": {
      "text/plain": [
       "<langchain_community.vectorstores.pinecone.Pinecone at 0x18cdfec3d10>"
      ]
     },
     "execution_count": 45,
     "metadata": {},
     "output_type": "execute_result"
    }
   ],
   "source": [
    "docsearch"
   ]
  },
  {
   "cell_type": "code",
   "execution_count": 46,
   "metadata": {},
   "outputs": [],
   "source": [
    "retriever = docsearch.as_retriever(search_type=\"similarity\", search_kwargs={\"k\":3})"
   ]
  },
  {
   "cell_type": "code",
   "execution_count": 47,
   "metadata": {},
   "outputs": [],
   "source": [
    "retrieved_docs = retriever.invoke(\"What rights all citizens should have?\")"
   ]
  },
  {
   "cell_type": "code",
   "execution_count": 48,
   "metadata": {},
   "outputs": [
    {
     "data": {
      "text/plain": [
       "[Document(metadata={'page': 3.0, 'source': 'C:\\\\Users\\\\Surbhi\\\\Desktop\\\\OpenAI-Demo\\\\New_Med\\\\New_med\\\\Data\\\\india.pdf'}, page_content='Right to Freedom\\n19. (1) All citizens shall have the right—\\n(a) to freedom of speech and expression;\\n(b) to assemble peaceably and without arms;\\n(c) to form associations or unions;\\n(d) to move freely throughout the territory of India;\\n(e) to reside and settle in any part of the territory\\nof India;  1[and]\\n       2*                       *                      *                      *                      *\\n(g) to practise any profession, or to carry on any\\noccupation, trade or business.'),\n",
       " Document(metadata={'page': 4.0, 'source': 'C:\\\\Users\\\\Surbhi\\\\Desktop\\\\OpenAI-Demo\\\\New_Med\\\\New_med\\\\Data\\\\india.pdf'}, page_content='liberty except according to procedure established by law.\\nTHE CONSTITUTION OF INDIA\\n(Part III.— Fundamental Rights.— Arts. 19—21.)\\n10\\n1Subs. by the Constitution (Forty-fourth Amendment) Act, 1978, s. 2, for ”sub-clauses\\n(d), ( e) and ( f)” (w.e.f. 20-6-1979).\\n2Subs. by the Constitution (First Amendment) Act, 1951, s. 3, for certain words.\\nProtection in\\nrespect of\\nconviction for\\noffences.\\nProtection of life\\nand personal\\nliberty.'),\n",
       " Document(metadata={'page': 0.0, 'source': 'C:\\\\Users\\\\Surbhi\\\\Desktop\\\\OpenAI-Demo\\\\New_Med\\\\New_med\\\\Data\\\\india.pdf'}, page_content='Right to Equality\\n14. The State shall not deny to any person equality\\nbefore the law or the equal protection of the laws within the\\nterritory of India.\\nDefinition.\\nLaws inconsistent\\nwith or in\\nderogation of the\\nfundamental rights.\\n6\\nEquality before\\nlaw.\\n1Ins. by the Constitution (Twenty-fourth Amendment) Act, 1971, s. 2.')]"
      ]
     },
     "execution_count": 48,
     "metadata": {},
     "output_type": "execute_result"
    }
   ],
   "source": [
    "retrieved_docs"
   ]
  },
  {
   "cell_type": "code",
   "execution_count": 52,
   "metadata": {},
   "outputs": [],
   "source": [
    "from langchain_openai import OpenAI\n",
    "llm = OpenAI(temperature=0.4, max_tokens=500)"
   ]
  },
  {
   "cell_type": "code",
   "execution_count": 58,
   "metadata": {},
   "outputs": [],
   "source": [
    "from langchain.chains import create_retrieval_chain\n",
    "from langchain.chains.combine_documents import create_stuff_documents_chain\n",
    "from langchain_core.prompts import ChatPromptTemplate\n",
    "\n",
    "\n",
    "system_prompt = (\n",
    "    \"You are an assistant for question-answering tasks. \"\n",
    "    \"Use the following pieces of retrieved context to answer \"\n",
    "    \"the question. If you don't know the answer, say that you \"\n",
    "    \"don't know. Use three sentences maximum and keep the \"\n",
    "    \"answer concise.\"\n",
    "    \"\\n\\n\"\n",
    "    \"{context}\"\n",
    ")\n",
    "\n",
    "\n",
    "prompt = ChatPromptTemplate.from_messages(\n",
    "    [\n",
    "        (\"system\", system_prompt),\n",
    "        (\"human\", \"{input}\"),\n",
    "    ]\n",
    ")"
   ]
  },
  {
   "cell_type": "code",
   "execution_count": 59,
   "metadata": {},
   "outputs": [],
   "source": [
    "question_answer_chain = create_stuff_documents_chain(llm, prompt)\n",
    "rag_chain = create_retrieval_chain(retriever, question_answer_chain)"
   ]
  },
  {
   "cell_type": "code",
   "execution_count": 60,
   "metadata": {},
   "outputs": [
    {
     "name": "stdout",
     "output_type": "stream",
     "text": [
      "\n",
      "\n",
      "All citizens have the right to freedom of speech and expression, to assemble peaceably and without arms, to form associations or unions, to move freely throughout the territory of India, to reside and settle in any part of the territory of India, and to practice any profession or carry on any occupation, trade or business. These rights are protected by the Constitution of India under Part III - Fundamental Rights. The State is also prohibited from denying any person equality before the law or equal protection of the laws within the territory of India.\n"
     ]
    }
   ],
   "source": [
    "response = rag_chain.invoke({\"input\": \"What rights all citizens should have?\"})\n",
    "print(response[\"answer\"])"
   ]
  },
  {
   "cell_type": "code",
   "execution_count": null,
   "metadata": {},
   "outputs": [],
   "source": []
  },
  {
   "cell_type": "code",
   "execution_count": null,
   "metadata": {},
   "outputs": [],
   "source": []
  },
  {
   "cell_type": "code",
   "execution_count": null,
   "metadata": {},
   "outputs": [],
   "source": []
  }
 ],
 "metadata": {
  "kernelspec": {
   "display_name": "Python 3",
   "language": "python",
   "name": "python3"
  },
  "language_info": {
   "codemirror_mode": {
    "name": "ipython",
    "version": 3
   },
   "file_extension": ".py",
   "mimetype": "text/x-python",
   "name": "python",
   "nbconvert_exporter": "python",
   "pygments_lexer": "ipython3",
   "version": "3.12.7"
  }
 },
 "nbformat": 4,
 "nbformat_minor": 2
}
